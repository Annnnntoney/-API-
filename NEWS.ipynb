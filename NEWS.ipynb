{
  "nbformat": 4,
  "nbformat_minor": 0,
  "metadata": {
    "colab": {
      "provenance": [],
      "authorship_tag": "ABX9TyM9jfyB4M1j6+UkGmIHnyF5",
      "include_colab_link": true
    },
    "kernelspec": {
      "name": "python3",
      "display_name": "Python 3"
    },
    "language_info": {
      "name": "python"
    }
  },
  "cells": [
    {
      "cell_type": "markdown",
      "metadata": {
        "id": "view-in-github",
        "colab_type": "text"
      },
      "source": [
        "<a href=\"https://colab.research.google.com/github/Annnnntoney/-API-/blob/main/NEWS.ipynb\" target=\"_parent\"><img src=\"https://colab.research.google.com/assets/colab-badge.svg\" alt=\"Open In Colab\"/></a>"
      ]
    },
    {
      "cell_type": "code",
      "execution_count": null,
      "metadata": {
        "id": "mAnVfCLITUFt"
      },
      "outputs": [],
      "source": [
        "import requests\n",
        "from bs4 import BeautifulSoup\n",
        "\n",
        "# 利用 requests 對 API 來源發送一個請求\n",
        "response = requests.get(\"https://udn.com/news/breaknews/1\")\n",
        "soup = BeautifulSoup(response.text)\n",
        "\n",
        "# 用來裝取的的新聞\n",
        "get_news = []\n",
        "\n",
        "# 爬取前4篇 h3 標籤 class 為 rounded-thumb__title 的新聞\n",
        "for link in soup.find_all(\"h3\", class_=\"rounded-thumb__title\")[0:4]:\n",
        "    # 取得標籤底下的連結\n",
        "    news_url = link.a[\"href\"]\n",
        "    # 將連結加上主網址\n",
        "    news_response = requests.get(\"https://udn.com\" + news_url)\n",
        "    # 分析新網址內的內容\n",
        "    news_soup = BeautifulSoup(news_response.text)\n",
        "    # 爬取單一新聞內文的段落\n",
        "    news_content = news_soup.find(\"div\", class_=\"article-content__paragraph\").text.strip().replace(\"\\n\", \" \")\n",
        "    # 將抓取到的內容放入 get_news 列表中\n",
        "    get_news.append(news_content)\n",
        "\n",
        "print(get_news)\n"
      ]
    },
    {
      "cell_type": "code",
      "source": [
        "\n",
        "# 安裝 jieba 套件\n",
        "!pip install jieba\n",
        "\n",
        "# 下載官方字典檔\n",
        "!wget https://raw.githubusercontent.com/fxsjy/jieba/master/extra_dict/dict.txt.big\n",
        "\n",
        "# 載入套件與字典檔\n",
        "import jieba\n",
        "jieba.load_userdict(\"dict.txt.big\")"
      ],
      "metadata": {
        "id": "YyyE4sKDV66n"
      },
      "execution_count": null,
      "outputs": []
    },
    {
      "cell_type": "code",
      "source": [
        "# 精準模式斷詞\n",
        "news_word = {}\n",
        "\n",
        "for d in get_news:\n",
        "    # token = d 的斷詞結果\n",
        "    token = list(jieba.cut(d, HMM=False))\n",
        "    for i in token:\n",
        "        if i not in news_word:\n",
        "          news_word[i] = 1\n",
        "        else:\n",
        "          news_word[i] += 1\n",
        "\n",
        "print(news_word)"
      ],
      "metadata": {
        "id": "ZTHDL42nV9nI"
      },
      "execution_count": null,
      "outputs": []
    },
    {
      "cell_type": "code",
      "source": [
        "news_word = dict(sorted(news_word.items(),key=lambda i: i[1], reverse=True))\n",
        "print(news_word)"
      ],
      "metadata": {
        "id": "1NaJ9YGMV_sU"
      },
      "execution_count": null,
      "outputs": []
    }
  ]
}