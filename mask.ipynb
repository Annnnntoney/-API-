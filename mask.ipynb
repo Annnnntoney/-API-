{
  "nbformat": 4,
  "nbformat_minor": 0,
  "metadata": {
    "colab": {
      "provenance": [],
      "authorship_tag": "ABX9TyO3irtSjiizJILPmB5a1B7N",
      "include_colab_link": true
    },
    "kernelspec": {
      "name": "python3",
      "display_name": "Python 3"
    },
    "language_info": {
      "name": "python"
    }
  },
  "cells": [
    {
      "cell_type": "markdown",
      "metadata": {
        "id": "view-in-github",
        "colab_type": "text"
      },
      "source": [
        "<a href=\"https://colab.research.google.com/github/Annnnntoney/-API-/blob/main/mask.ipynb\" target=\"_parent\"><img src=\"https://colab.research.google.com/assets/colab-badge.svg\" alt=\"Open In Colab\"/></a>"
      ]
    },
    {
      "cell_type": "code",
      "execution_count": null,
      "metadata": {
        "id": "lbTAATS5NChO"
      },
      "outputs": [],
      "source": [
        "import json\n",
        "import requests\n",
        "\n",
        "# 利用 requests 對 API 來源發送一個請求\n",
        "url = \"https://raw.githubusercontent.com/kiang/pharmacies/master/json/points.json\"\n",
        "response = requests.get(url)\n",
        "\n",
        "# 將請求回應的內容存成一個字串格式\n",
        "d = response.text\n",
        "\n",
        "# 解析 json 格式的資料，變成成字典\n",
        "data = json.loads(d)\n",
        "\n",
        "print(data)\n",
        "\n",
        "# 計算藥局的數量\n",
        "mask_count = {}\n",
        "\n",
        "# 取出每一筆解析出來的，\n",
        "for d in data['features']:\n",
        "    # 有些 county 為空值，因此取地址的前三個字\n",
        "    county = d['properties']['address'][0:3]\n",
        "    # 若城市沒有出現在 mask_count 裡，建立新的key，並賦予 1\n",
        "    if county not in mask_count:\n",
        "        mask_count[county] = 1\n",
        "    # 若城市已經在 mask_count 裡。則 +1\n",
        "    else:\n",
        "        mask_count[county] += 1\n",
        "\n",
        "print(mask_count)"
      ]
    }
  ]
}